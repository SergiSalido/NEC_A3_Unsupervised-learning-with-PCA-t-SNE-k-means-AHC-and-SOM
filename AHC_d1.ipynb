{
 "cells": [
  {
   "cell_type": "markdown",
   "id": "6fd7c216",
   "metadata": {},
   "source": [
    "# Unsupervised learning with Agglomerative Hierarchical Clustering (AHC)\n",
    "### Dataset 1: [A3-data.txt](input/A3-data.txt)"
   ]
  },
  {
   "cell_type": "markdown",
   "id": "47e143bb-171b-4fcc-a265-f7ba0fc54661",
   "metadata": {},
   "source": [
    "### Description of the technique\n",
    "Agglomerative Hierarchical Clustering (AHC) is a clustering (or classification) method which has the following advantages:\n",
    "\n",
    "- It works from the dissimilarities between the objects to be grouped together. A type of dissimilarity can be suited to the subject studied and the nature of the data.\n",
    "- One of the results is the dendrogram which shows the progressive grouping of the data. It is then possible to gain an idea of a suitable number of classes into which the data can be grouped.\n",
    "\n",
    "### Objective\n",
    "Use the unweighted average (UPGMA) and complete linkage (CL) methods of AHC, using as input the matrix of Euclidean distances between the original patterns, and use different colors to represent the patterns in each original class"
   ]
  },
  {
   "cell_type": "markdown",
   "id": "add628c3",
   "metadata": {},
   "source": [
    "## Index\n",
    "<nav>\n",
    "\n",
    "* [Import modules](#1)\n",
    "* [Loading dataset](#2)\n",
    "* [Plot dendogram function](#3)\n",
    "* [Agglomerative Clustering](#4)\n",
    "    * [AHC - Unweighted average (UPGMA) linkage](#5)\n",
    "    * [AHC - Unweighted average (UPGMA) linkage](#6)\n",
    "* [References](#7)\n",
    "</nav>"
   ]
  },
  {
   "cell_type": "markdown",
   "id": "37833ff2",
   "metadata": {},
   "source": [
    "<a id=\"1\"></a>\n",
    "## Import modules"
   ]
  },
  {
   "cell_type": "code",
   "execution_count": 1,
   "id": "38b9c961",
   "metadata": {},
   "outputs": [],
   "source": [
    "import pandas as pd\n",
    "import numpy as np\n",
    "\n",
    "%matplotlib inline\n",
    "from matplotlib import pyplot as plt\n",
    "from scipy.cluster.hierarchy import dendrogram\n",
    "from sklearn.cluster import AgglomerativeClustering"
   ]
  },
  {
   "cell_type": "markdown",
   "id": "1faebc24",
   "metadata": {},
   "source": [
    "<a id=\"2\"></a>\n",
    "## Loading dataset"
   ]
  },
  {
   "cell_type": "code",
   "execution_count": 5,
   "id": "b688850c-ad98-41d4-8bef-fb906c3992bf",
   "metadata": {},
   "outputs": [
    {
     "name": "stdout",
     "output_type": "stream",
     "text": [
      "            x         y         z         t  class\n",
      "0   -0.031676 -9.912054 -0.579436 -1.044239      1\n",
      "1    0.002526  6.172456  3.288339 -1.006427      5\n",
      "2    0.183123 -0.387841  6.236470 -1.691491      2\n",
      "3   -0.042262 -1.996272 -1.655302 -2.995311      1\n",
      "4   -0.062811 -0.417072  6.657475 -3.633134      4\n",
      "..        ...       ...       ...       ...    ...\n",
      "355 -0.340733  8.504536  7.903644 -2.032197      6\n",
      "356 -0.024928  1.551977  6.361992 -0.757714      2\n",
      "357 -0.668529 -0.607597  0.639295  4.329213      6\n",
      "358 -0.122711 -5.516957 -2.111173  2.209675      3\n",
      "359  0.740207 -7.492176  1.959426 -7.119918      6\n",
      "\n",
      "[360 rows x 5 columns]\n"
     ]
    }
   ],
   "source": [
    "# Load training data\n",
    "filename = 'input\\\\A3-data.txt'\n",
    "df = pd.read_csv(filename, delimiter=',', header=0)\n",
    "print(df)\n",
    "\n",
    "features = ['x', 'y', 'z', 't']\n",
    "target = ['class']\n",
    "\n",
    "# Separating out the features\n",
    "X = df.loc[:, features].values"
   ]
  },
  {
   "cell_type": "markdown",
   "id": "74c19c0e",
   "metadata": {},
   "source": [
    "<a id=\"3\"></a>\n",
    "## Plot dendogram function"
   ]
  },
  {
   "cell_type": "code",
   "execution_count": 15,
   "id": "2d305754",
   "metadata": {},
   "outputs": [],
   "source": [
    "def plot_dendrogram(model, **kwargs):\n",
    "    # Create linkage matrix and then plot the dendrogram\n",
    "\n",
    "    # create the counts of samples under each node\n",
    "    counts = np.zeros(model.children_.shape[0])\n",
    "    n_samples = len(model.labels_)\n",
    "    for i, merge in enumerate(model.children_):\n",
    "        current_count = 0\n",
    "        for child_idx in merge:\n",
    "            if child_idx < n_samples:\n",
    "                current_count += 1  # leaf node\n",
    "            else:\n",
    "                current_count += counts[child_idx - n_samples]\n",
    "        counts[i] = current_count\n",
    "\n",
    "    linkage_matrix = np.column_stack(\n",
    "        [model.children_, model.distances_, counts]\n",
    "    ).astype(float)\n",
    "\n",
    "    # Plot the corresponding dendrogram\n",
    "    dendrogram(linkage_matrix, **kwargs)"
   ]
  },
  {
   "cell_type": "markdown",
   "id": "ae8625ad",
   "metadata": {},
   "source": [
    "<a id=\"4\"></a>\n",
    "## Agglomerative Clustering\n",
    "The **AgglomerativeClustering** object performs a hierarchical clustering using a bottom up approach: each observation starts in its own cluster, and clusters are successively merged together. The linkage criteria determines the metric used for the merge strategy:\n",
    "- **Complete linkage** minimizes the maximum distance between observations of pairs of clusters.\n",
    "- **Average linkage** minimizes the average of the distances between all observations of pairs of clusters."
   ]
  },
  {
   "cell_type": "markdown",
   "id": "1519c1e8",
   "metadata": {},
   "source": [
    "<a id=\"5\"></a>\n",
    "### AHC - Unweighted average (UPGMA) linkage"
   ]
  },
  {
   "cell_type": "code",
   "execution_count": 23,
   "id": "50622350",
   "metadata": {},
   "outputs": [
    {
     "data": {
      "image/png": "[encoded data removed]",
      "text/plain": [
       "<Figure size 432x288 with 1 Axes>"
      ]
     },
     "metadata": {
      "needs_background": "light"
     },
     "output_type": "display_data"
    }
   ],
   "source": [
    "# ‘average’ uses the average of the distances of each observation of the two sets.\n",
    "# setting distance_threshold=0 ensures we compute the full tree.\n",
    "model = AgglomerativeClustering(affinity='euclidean', linkage='average', distance_threshold=0, n_clusters=None)\n",
    "\n",
    "model = model.fit(X)\n",
    "plt.title(\"Hierarchical Clustering Dendrogram using average linkage\")\n",
    "# plot the top three levels of the dendrogram\n",
    "plot_dendrogram(model, truncate_mode=\"level\", p=3)\n",
    "plt.xlabel(\"Number of points in node (or index of point if no parenthesis).\")\n",
    "plt.show()"
   ]
  },
  {
   "cell_type": "markdown",
   "id": "72cd4e97",
   "metadata": {},
   "source": [
    "<a id=\"6\"></a>\n",
    "### AHC - Complete linkage (CL) linkage"
   ]
  },
  {
   "cell_type": "code",
   "execution_count": 24,
   "id": "36a0a411",
   "metadata": {},
   "outputs": [
    {
     "data": {
      "image/png": "[encoded data removed]",
      "text/plain": [
       "<Figure size 432x288 with 1 Axes>"
      ]
     },
     "metadata": {
      "needs_background": "light"
     },
     "output_type": "display_data"
    }
   ],
   "source": [
    "# ‘complete’ linkage uses the maximum distances between all observations of the two sets.\n",
    "# setting distance_threshold=0 ensures we compute the full tree.\n",
    "model = AgglomerativeClustering(affinity='euclidean', linkage='complete', distance_threshold=0, n_clusters=None)\n",
    "\n",
    "model = model.fit(X)\n",
    "plt.title(\"Hierarchical Clustering Dendrogram using complete linkage\")\n",
    "# plot the top three levels of the dendrogram\n",
    "plot_dendrogram(model, truncate_mode=\"level\", p=3)\n",
    "plt.xlabel(\"Number of points in node (or index of point if no parenthesis).\")\n",
    "plt.show()"
   ]
  },
  {
   "cell_type": "markdown",
   "id": "ec2573d3",
   "metadata": {},
   "source": [
    "<a id=\"7\"></a>\n",
    "## References\n",
    "\n",
    "Agglomerative Hierarchical Clustering (AHC):\n",
    "\n",
    "- [Hierarchical clustering](https://en.wikipedia.org/wiki/Hierarchical_clustering)\n",
    "- [sklearn.cluster.AgglomerativeClustering](https://scikit-learn.org/stable/modules/generated/sklearn.cluster.AgglomerativeClustering.html)\n",
    "- [Plot Hierarchical Clustering Dendrogram](https://scikit-learn.org/stable/auto_examples/cluster/plot_agglomerative_dendrogram.html#sphx-glr-auto-examples-cluster-plot-agglomerative-dendrogram-py)\n",
    "\n",
    "Dendogram:\n",
    "\n",
    "- [Dendrogram](https://en.wikipedia.org/wiki/Dendrogram)"
   ]
  }
 ],
 "metadata": {
  "kernelspec": {
   "display_name": "Python 3 (ipykernel)",
   "language": "python",
   "name": "python3"
  },
  "language_info": {
   "codemirror_mode": {
    "name": "ipython",
    "version": 3
   },
   "file_extension": ".py",
   "mimetype": "text/x-python",
   "name": "python",
   "nbconvert_exporter": "python",
   "pygments_lexer": "ipython3",
   "version": "3.8.10"
  }
 },
 "nbformat": 4,
 "nbformat_minor": 5
}
