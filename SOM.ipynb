{
 "cells": [
  {
   "cell_type": "markdown",
   "id": "6fd7c216",
   "metadata": {},
   "source": [
    "# Unsupervised learning with Self Organizing Maps (SOM)\n",
    "### Dataset 1: [A3-data.txt](input/A3-data.txt)\n",
    "### Dataset 2: [Wine.txt](input/Wine.txt)"
   ]
  },
  {
   "cell_type": "markdown",
   "id": "47e143bb-171b-4fcc-a265-f7ba0fc54661",
   "metadata": {},
   "source": [
    "### Description of the technique\n",
    "A self-organizing map (SOM) is used to produce a low-dimensional (typically two-dimensional) representation of a higher dimensional data set while preserving the topological structure of the data.\n",
    "\n",
    "### Objective\n",
    "Use SOM to visualize the data, using different settings (topology and size\n",
    "of the map, learning rate, neighborhood function, etc.). For the “best” map,\n",
    "calculate also the component planes."
   ]
  },
  {
   "cell_type": "markdown",
   "id": "db49dde8",
   "metadata": {},
   "source": [
    "### Implementation\n",
    "We have used Somoclu library for Python.\n",
    "Find the source code of the implementation in [SOM_d1.py](SOM_d1.py) using the first dataset and [SOM_d2.py](SOM_d2.py) using the second dataset."
   ]
  },
  {
   "cell_type": "markdown",
   "id": "2449c9b6",
   "metadata": {},
   "source": [
    "<a id=\"6\"></a>\n",
    "## References\n",
    "\n",
    "Self-Organizing Maps:\n",
    "\n",
    "- [Self-organizing map](https://en.wikipedia.org/wiki/Self-organizing_map)\n",
    "- [SELF ORGANISING MAPS: INTRODUCTION](https://www.youtube.com/watch?v=0qtvb_Nx2tA)\n",
    "- [Somoclu VS Minisom](https://www.libhunt.com/compare-somoclu-vs-minisom)\n",
    "- [Uniform Manifold Approximation and Projection (UMAP) for Dimension Reduction](https://umap-learn.readthedocs.io/en/latest/)\n",
    "- [Somoclu](https://peterwittek.github.io/somoclu/)\n",
    "- [Minisom](https://github.com/JustGlowing/minisom)\n",
    "- [MiniSom Playground](https://share.streamlit.io/justglowing/minisom/dashboard/dashboard.py)\n",
    "- [Visualizing self organizing maps (SOMs)](https://www.kaggle.com/praanj/visualizing-self-organizing-maps-soms/notebook)\n",
    "- [Lecture notes from the Machine Learning course at the University of Lisbon](https://aa.ssdi.di.fct.unl.pt/files/AA-16_notes.pdf)\n",
    "- [Somoclu Python Documentation](https://readthedocs.org/projects/somoclu/downloads/pdf/stable)\n",
    "- [Beginners Guide to Anomaly Detection Using Self-Organizing Maps (Implementation of Self-Organizing Maps on Python)](https://www.analyticsvidhya.com/blog/2021/09/beginners-guide-to-anomaly-detection-using-self-organizing-maps/#:~:text=a%20tuning%20parameter.-,Implementation%20of%20Self%2DOrganizing%20Maps%20on%20Python,-We%20shall%20employ)\n",
    "- [Self-Organizing Maps - the Kohonen's algorithm explained](https://ivape3.blogs.uv.es/2015/03/15/self-organizing-maps-the-kohonens-algorithm-explained/)"
   ]
  }
 ],
 "metadata": {
  "kernelspec": {
   "display_name": "Python 3 (ipykernel)",
   "language": "python",
   "name": "python3"
  },
  "language_info": {
   "codemirror_mode": {
    "name": "ipython",
    "version": 3
   },
   "file_extension": ".py",
   "mimetype": "text/x-python",
   "name": "python",
   "nbconvert_exporter": "python",
   "pygments_lexer": "ipython3",
   "version": "3.8.10"
  }
 },
 "nbformat": 4,
 "nbformat_minor": 5
}
