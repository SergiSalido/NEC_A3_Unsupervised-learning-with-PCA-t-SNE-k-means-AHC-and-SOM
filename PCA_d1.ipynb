{
 "cells": [
  {
   "cell_type": "markdown",
   "id": "6fd7c216",
   "metadata": {},
   "source": [
    "# Unsupervised learning with Principal Component Analysis (PCA)\n",
    "### Dataset 1: [A3-data.txt](input/A3-data.txt)"
   ]
  },
  {
   "cell_type": "markdown",
   "id": "47e143bb-171b-4fcc-a265-f7ba0fc54661",
   "metadata": {},
   "source": [
    "### Description of the technique\n",
    "PCA is a classical method used for dimensionality reduction. It is used to find the best linear projection in a smaller space. The best projection preserves as much variance as possible.\n",
    "\n",
    "### Objective\n",
    "Find and plot the PCA projection in two dimensions, using a different color\n",
    "for each class."
   ]
  },
  {
   "cell_type": "markdown",
   "id": "add628c3",
   "metadata": {},
   "source": [
    "## Index\n",
    "<nav>\n",
    "\n",
    "* [Import modules](#1)\n",
    "* [Loading dataset](#2)\n",
    "* [Standardize the data](#3)\n",
    "* [PCA Projection to 2D](#4)\n",
    "* [Explained Variance](#5)\n",
    "* [Visualize 2D Projection](#6)\n",
    "* [References](#7)\n",
    "</nav>"
   ]
  },
  {
   "cell_type": "markdown",
   "id": "37833ff2",
   "metadata": {},
   "source": [
    "<a id=\"1\"></a>\n",
    "## Import modules"
   ]
  },
  {
   "cell_type": "code",
   "execution_count": 1,
   "id": "38b9c961",
   "metadata": {},
   "outputs": [],
   "source": [
    "import pandas as pd\n",
    "from sklearn.preprocessing import StandardScaler\n",
    "from sklearn.decomposition import PCA\n",
    "import matplotlib.pyplot as plt"
   ]
  },
  {
   "cell_type": "markdown",
   "id": "1faebc24",
   "metadata": {},
   "source": [
    "<a id=\"2\"></a>\n",
    "## Loading dataset"
   ]
  },
  {
   "cell_type": "code",
   "execution_count": 4,
   "id": "b688850c-ad98-41d4-8bef-fb906c3992bf",
   "metadata": {},
   "outputs": [
    {
     "name": "stdout",
     "output_type": "stream",
     "text": [
      "            x         y         z         t  class\n",
      "0   -0.031676 -9.912054 -0.579436 -1.044239      1\n",
      "1    0.002526  6.172456  3.288339 -1.006427      5\n",
      "2    0.183123 -0.387841  6.236470 -1.691491      2\n",
      "3   -0.042262 -1.996272 -1.655302 -2.995311      1\n",
      "4   -0.062811 -0.417072  6.657475 -3.633134      4\n",
      "..        ...       ...       ...       ...    ...\n",
      "355 -0.340733  8.504536  7.903644 -2.032197      6\n",
      "356 -0.024928  1.551977  6.361992 -0.757714      2\n",
      "357 -0.668529 -0.607597  0.639295  4.329213      6\n",
      "358 -0.122711 -5.516957 -2.111173  2.209675      3\n",
      "359  0.740207 -7.492176  1.959426 -7.119918      6\n",
      "\n",
      "[360 rows x 5 columns]\n"
     ]
    }
   ],
   "source": [
    "# Load training data\n",
    "filename = 'input\\\\A3-data.txt'\n",
    "df = pd.read_csv(filename, delimiter=',', header=0)\n",
    "print(df)"
   ]
  },
  {
   "cell_type": "markdown",
   "id": "e66134ae",
   "metadata": {},
   "source": [
    "<a id=\"3\"></a>\n",
    "## Standardize the data"
   ]
  },
  {
   "cell_type": "code",
   "execution_count": 29,
   "id": "a53b9fa4",
   "metadata": {},
   "outputs": [],
   "source": [
    "features = ['x', 'y', 'z', 't']\n",
    "target = ['class']\n",
    "\n",
    "# Separating out the features\n",
    "x = df.loc[:, features].values\n",
    "\n",
    "# Separating out the target (class)\n",
    "y = df.loc[:, target].values\n",
    "\n",
    "# Standardizing the features\n",
    "x = StandardScaler().fit_transform(x)"
   ]
  },
  {
   "cell_type": "markdown",
   "id": "6c5ef1b1",
   "metadata": {},
   "source": [
    "<a id=\"4\"></a>\n",
    "## PCA Projection to 2D"
   ]
  },
  {
   "cell_type": "markdown",
   "id": "c0f9fb94",
   "metadata": {},
   "source": [
    "The original data has 4 columns (x, y, z, t). In this section, the code projects the original data which is 4 dimensional into 2 dimensions. After dimensionality reduction, there usually isn’t a particular meaning assigned to each principal component. The new components are just the two main dimensions of variation."
   ]
  },
  {
   "cell_type": "code",
   "execution_count": 63,
   "id": "03927433",
   "metadata": {},
   "outputs": [
    {
     "name": "stdout",
     "output_type": "stream",
     "text": [
      "original shape:    (360, 4)\n",
      "transformed shape: (360, 2)\n",
      "     principal component 1  principal component 2\n",
      "0               -11.140744               1.777584\n",
      "1                 5.264961               1.785206\n",
      "2                -0.397063              -2.667042\n",
      "3                -3.444823               4.255369\n",
      "4                -0.098412              -3.439195\n",
      "..                     ...                    ...\n",
      "355               8.615611              -2.276113\n",
      "356               1.393593              -2.163631\n",
      "357              -2.531446               3.768607\n",
      "358              -7.601317               4.863180\n",
      "359              -7.504409              -1.242253\n",
      "\n",
      "[360 rows x 2 columns]\n",
      "     principal component 1  principal component 2  class\n",
      "0               -11.140744               1.777584      1\n",
      "1                 5.264961               1.785206      5\n",
      "2                -0.397063              -2.667042      2\n",
      "3                -3.444823               4.255369      1\n",
      "4                -0.098412              -3.439195      4\n",
      "..                     ...                    ...    ...\n",
      "355               8.615611              -2.276113      6\n",
      "356               1.393593              -2.163631      2\n",
      "357              -2.531446               3.768607      6\n",
      "358              -7.601317               4.863180      3\n",
      "359              -7.504409              -1.242253      6\n",
      "\n",
      "[360 rows x 3 columns]\n"
     ]
    }
   ],
   "source": [
    "pca = PCA(n_components=2)\n",
    "principal_components = pca.fit_transform(x)\n",
    "principal_df = pd.DataFrame(data = principal_components, columns = ['principal component 1', 'principal component 2'])\n",
    "\n",
    "\n",
    "print(\"original shape:   \", x.shape)\n",
    "print(\"transformed shape:\", principal_components.shape)\n",
    "\n",
    "print(principal_df)\n",
    "\n",
    "final_df = pd.concat([principal_df, df[['class']]], axis = 1)\n",
    "\n",
    "print(final_df)"
   ]
  },
  {
   "cell_type": "markdown",
   "id": "04d417cf",
   "metadata": {},
   "source": [
    "<a id=\"5\"></a>\n",
    "## Explained Variance"
   ]
  },
  {
   "cell_type": "code",
   "execution_count": 62,
   "id": "7812d28a",
   "metadata": {},
   "outputs": [
    {
     "name": "stdout",
     "output_type": "stream",
     "text": [
      "[24.53191904 16.3023199 ]\n",
      "[0.47551708 0.31599776]\n"
     ]
    }
   ],
   "source": [
    "print(pca.explained_variance_)\n",
    "print(pca.explained_variance_ratio_)"
   ]
  },
  {
   "cell_type": "markdown",
   "id": "650378a0",
   "metadata": {},
   "source": [
    "<a id=\"6\"></a>\n",
    "## Visualize 2D Projection"
   ]
  },
  {
   "cell_type": "code",
   "execution_count": 60,
   "id": "b8ee5b79",
   "metadata": {},
   "outputs": [
    {
     "name": "stdout",
     "output_type": "stream",
     "text": [
      "[1, 2, 3, 4, 5, 6]\n"
     ]
    },
    {
     "data": {
      "image/png": "[encoded data removed]",
      "text/plain": [
       "<Figure size 576x576 with 1 Axes>"
      ]
     },
     "metadata": {
      "needs_background": "light"
     },
     "output_type": "display_data"
    }
   ],
   "source": [
    "fig = plt.figure(figsize = (8,8))\n",
    "ax = fig.add_subplot(1,1,1) \n",
    "ax.set_xlabel('Principal Component 1', fontsize = 15)\n",
    "ax.set_ylabel('Principal Component 2', fontsize = 15)\n",
    "ax.set_title('2 component PCA', fontsize = 20)\n",
    "\n",
    "targets = sorted(df['class'].unique())\n",
    "print(targets)\n",
    "\n",
    "colors = ['r', 'g', 'b', 'y', 'm', 'c']\n",
    "for target, color in zip(targets,colors):\n",
    "    indicesToKeep = final_df['class'] == target\n",
    "    ax.scatter(final_df.loc[indicesToKeep, 'principal component 1']\n",
    "               , final_df.loc[indicesToKeep, 'principal component 2']\n",
    "               , c = color\n",
    "               , s = 50)\n",
    "ax.legend(targets)\n",
    "ax.grid()"
   ]
  },
  {
   "cell_type": "markdown",
   "id": "e9647387",
   "metadata": {},
   "source": [
    "<a id=\"7\"></a>\n",
    "## References\n",
    "\n",
    "Principal Component Analysis:\n",
    "\n",
    "- [PCA using Python (scikit-learn)\n",
    "](https://towardsdatascience.com/pca-using-python-scikit-learn-e653f8989e60)\n",
    "- [Principal Component Analysis (PCA) in Python](https://www.datacamp.com/community/tutorials/principal-component-analysis-in-python)\n",
    "- [PCA con Python](https://www.cienciadedatos.net/documentos/py19-pca-python.html)\n",
    "- [Python para todos: Tutorial de PCA en 5 sencillos pasos](https://empresas.blogthinkbig.com/python-para-todos-tutorial-de-pca-en-5/)\n",
    "- [PCA Visualization in Python](https://plotly.com/python/pca-visualization/)\n",
    "\n",
    "Feature Scaling:\n",
    "\n",
    "- [Importance of Feature Scaling](https://scikit-learn.org/stable/auto_examples/preprocessing/plot_scaling_importance.html#sphx-glr-auto-examples-preprocessing-plot-scaling-importance-py)"
   ]
  }
 ],
 "metadata": {
  "kernelspec": {
   "display_name": "Python 3 (ipykernel)",
   "language": "python",
   "name": "python3"
  },
  "language_info": {
   "codemirror_mode": {
    "name": "ipython",
    "version": 3
   },
   "file_extension": ".py",
   "mimetype": "text/x-python",
   "name": "python",
   "nbconvert_exporter": "python",
   "pygments_lexer": "ipython3",
   "version": "3.9.7"
  }
 },
 "nbformat": 4,
 "nbformat_minor": 5
}
