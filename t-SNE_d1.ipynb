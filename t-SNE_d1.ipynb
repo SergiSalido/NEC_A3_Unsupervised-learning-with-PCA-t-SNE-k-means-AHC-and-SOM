{
 "cells": [
  {
   "cell_type": "markdown",
   "id": "6fd7c216",
   "metadata": {},
   "source": [
    "# Unsupervised learning with t-distributed Stochastic Network Embedding (t-SNE)\n",
    "### Dataset 1: [A3-data.txt](input/A3-data.txt)"
   ]
  },
  {
   "cell_type": "markdown",
   "id": "47e143bb-171b-4fcc-a265-f7ba0fc54661",
   "metadata": {},
   "source": [
    "### Description of the technique\n",
    "t-SNE is a tool to visualize high-dimensional data. It converts similarities between data points to joint probabilities and tries to minimize the Kullback-Leibler divergence between the joint probabilities of the low-dimensional embedding and the high-dimensional data. t-SNE has a cost function that is not convex, i.e. with different initializations we can get different results.\n",
    "\n",
    "### Objective\n",
    "Find and plot the t-SNE projection in two dimensions, using a different color for each class."
   ]
  },
  {
   "cell_type": "markdown",
   "id": "add628c3",
   "metadata": {},
   "source": [
    "## Index\n",
    "<nav>\n",
    "\n",
    "* [Import modules](#1)\n",
    "* [Loading dataset](#2)\n",
    "* [Standardize the data](#3)\n",
    "* [t-SNE Projection to 2D](#4)\n",
    "* [Visualize 2D Projection](#5)\n",
    "* [References](#6)\n",
    "</nav>"
   ]
  },
  {
   "cell_type": "markdown",
   "id": "37833ff2",
   "metadata": {},
   "source": [
    "<a id=\"1\"></a>\n",
    "## Import modules"
   ]
  },
  {
   "cell_type": "code",
   "execution_count": 4,
   "id": "b7a6347c-5bbf-40fe-b8bc-ba605ecd203a",
   "metadata": {},
   "outputs": [],
   "source": [
    "import pandas as pd\n",
    "from sklearn.preprocessing import StandardScaler\n",
    "from sklearn.decomposition import PCA\n",
    "import matplotlib.pyplot as plt"
   ]
  },
  {
   "cell_type": "markdown",
   "id": "1faebc24",
   "metadata": {},
   "source": [
    "<a id=\"2\"></a>\n",
    "## Loading dataset"
   ]
  },
  {
   "cell_type": "code",
   "execution_count": 32,
   "id": "b688850c-ad98-41d4-8bef-fb906c3992bf",
   "metadata": {},
   "outputs": [
    {
     "name": "stdout",
     "output_type": "stream",
     "text": [
      "            x         y         z         t  class\n",
      "0   -0.031676 -9.912054 -0.579436 -1.044239      1\n",
      "1    0.002526  6.172456  3.288339 -1.006427      5\n",
      "2    0.183123 -0.387841  6.236470 -1.691491      2\n",
      "3   -0.042262 -1.996272 -1.655302 -2.995311      1\n",
      "4   -0.062811 -0.417072  6.657475 -3.633134      4\n",
      "..        ...       ...       ...       ...    ...\n",
      "355 -0.340733  8.504536  7.903644 -2.032197      6\n",
      "356 -0.024928  1.551977  6.361992 -0.757714      2\n",
      "357 -0.668529 -0.607597  0.639295  4.329213      6\n",
      "358 -0.122711 -5.516957 -2.111173  2.209675      3\n",
      "359  0.740207 -7.492176  1.959426 -7.119918      6\n",
      "\n",
      "[360 rows x 5 columns]\n"
     ]
    }
   ],
   "source": [
    "# Load training data\n",
    "filename = 'input\\\\A3-data.txt'\n",
    "df = pd.read_csv(filename, delimiter=',', header=0)\n",
    "print(df)"
   ]
  },
  {
   "cell_type": "markdown",
   "id": "e66134ae",
   "metadata": {},
   "source": [
    "<a id=\"3\"></a>\n",
    "## Standardize the data"
   ]
  },
  {
   "cell_type": "code",
   "execution_count": 33,
   "id": "a53b9fa4",
   "metadata": {},
   "outputs": [],
   "source": [
    "features = ['x', 'y', 'z', 't']\n",
    "target = ['class']\n",
    "\n",
    "# Separating out the features\n",
    "x = df.loc[:, features].values\n",
    "\n",
    "# Separating out the target (class)\n",
    "y = df.loc[:, target].values\n",
    "\n",
    "# Standardizing the features\n",
    "x = StandardScaler().fit_transform(x)"
   ]
  },
  {
   "cell_type": "markdown",
   "id": "6c5ef1b1",
   "metadata": {},
   "source": [
    "<a id=\"4\"></a>\n",
    "## t-SNE Projection to 2D"
   ]
  },
  {
   "cell_type": "markdown",
   "id": "c0f9fb94",
   "metadata": {},
   "source": [
    "The original data has 4 columns (x, y, z, t). In this section, the code projects the original data which is 4 dimensional into 2 dimensions. After dimensionality reduction, there usually isn’t a particular meaning assigned to each principal component. The new components are just the two main dimensions of variation."
   ]
  },
  {
   "cell_type": "code",
   "execution_count": 73,
   "id": "1de1aa96",
   "metadata": {},
   "outputs": [
    {
     "name": "stderr",
     "output_type": "stream",
     "text": [
      "C:\\Users\\SergiSalido\\AppData\\Local\\Programs\\Python\\Python39\\lib\\site-packages\\sklearn\\manifold\\_t_sne.py:780: FutureWarning: The default initialization in TSNE will change from 'random' to 'pca' in 1.2.\n",
      "  warnings.warn(\n",
      "C:\\Users\\SergiSalido\\AppData\\Local\\Programs\\Python\\Python39\\lib\\site-packages\\sklearn\\manifold\\_t_sne.py:790: FutureWarning: The default learning rate in TSNE will change from 200.0 to 'auto' in 1.2.\n",
      "  warnings.warn(\n"
     ]
    },
    {
     "name": "stdout",
     "output_type": "stream",
     "text": [
      "[t-SNE] Computing 91 nearest neighbors...\n",
      "[t-SNE] Indexed 360 samples in 0.000s...\n",
      "[t-SNE] Computed neighbors for 360 samples in 0.007s...\n",
      "[t-SNE] Computed conditional probabilities for sample 360 / 360\n",
      "[t-SNE] Mean sigma: 0.692581\n",
      "[t-SNE] KL divergence after 250 iterations with early exaggeration: 63.811890\n",
      "[t-SNE] KL divergence after 1000 iterations: 0.500530\n",
      "t-SNE done! Time elapsed: 0.9162564277648926 seconds\n",
      "original shape:    (360, 4)\n",
      "transformed shape: (360, 2)\n"
     ]
    }
   ],
   "source": [
    "from __future__ import print_function\n",
    "import time\n",
    "import numpy as np\n",
    "import pandas as pd\n",
    "from sklearn.decomposition import PCA\n",
    "from sklearn.manifold import TSNE\n",
    "%matplotlib inline\n",
    "import matplotlib.pyplot as plt\n",
    "from mpl_toolkits.mplot3d import Axes3D\n",
    "import seaborn as sns\n",
    "\n",
    "time_start = time.time()\n",
    "tsne = TSNE(n_components=2, verbose=1)\n",
    "tsne_result = tsne.fit_transform(x)\n",
    "print('t-SNE done! Time elapsed: {} seconds'.format(time.time()-time_start))\n",
    "\n",
    "print(\"original shape:   \", x.shape)\n",
    "print(\"transformed shape:\", tsne_result.shape)"
   ]
  },
  {
   "cell_type": "markdown",
   "id": "650378a0",
   "metadata": {},
   "source": [
    "<a id=\"5\"></a>\n",
    "## Visualize 2D Projection"
   ]
  },
  {
   "cell_type": "code",
   "execution_count": 72,
   "id": "b8ee5b79",
   "metadata": {},
   "outputs": [
    {
     "data": {
      "image/png": "[encoded data removed]",
      "text/plain": [
       "<Figure size 432x288 with 1 Axes>"
      ]
     },
     "metadata": {
      "needs_background": "light"
     },
     "output_type": "display_data"
    }
   ],
   "source": [
    "# Plot the result of our TSNE with the label color coded\n",
    "# A lot of the stuff here is about making the plot look pretty and not TSNE\n",
    "tsne_result_df = pd.DataFrame({'tsne_1': tsne_result[:,0], 'tsne_2': tsne_result[:,1], 'class': y[:,0]})\n",
    "fig, ax = plt.subplots(1)\n",
    "sns.scatterplot(x='tsne_1', y='tsne_2', hue='class', data=tsne_result_df, ax=ax,s=10, palette=sns.color_palette(n_colors=6))\n",
    "lim = (tsne_result.min()-5, tsne_result.max()+5)\n",
    "ax.set_xlim(lim)\n",
    "ax.set_ylim(lim)\n",
    "ax.set_aspect('equal')\n",
    "ax.legend(bbox_to_anchor=(1.05, 1), loc=2, borderaxespad=0.0)\n",
    "plt.show()"
   ]
  },
  {
   "cell_type": "markdown",
   "id": "e9647387",
   "metadata": {},
   "source": [
    "<a id=\"6\"></a>\n",
    "## References\n",
    "\n",
    "t-distributed Neighbor Stochastic Embedding:\n",
    "\n",
    "- [t-SNE Python Example](https://towardsdatascience.com/t-sne-python-example-1ded9953f26)\n",
    "- [tSNE con Python, una introducción](https://sitiobigdata.com/2019/10/27/una-introduccion-a-tsne-con-python)\n",
    "- [Comprehensive Guide on t-SNE algorithm with implementation in R & Python](https://www.analyticsvidhya.com/blog/2017/01/t-sne-implementation-r-python/)\n",
    "- [Visualizing Data using t-SNE](https://jmlr.org/papers/volume9/vandermaaten08a/vandermaaten08a.pdf)\n",
    "- [Introduction to t-SNE in Python with scikit-learn](https://danielmuellerkomorowska.com/2021/01/05/introduction-to-t-sne-in-python-with-scikit-learn/)\n",
    "- [t-SNE and UMAP projections in Python](https://plotly.com/python/t-sne-and-umap-projections/)\n",
    "- [sklearn.manifold.TSNE](https://scikit-learn.org/stable/modules/generated/sklearn.manifold.TSNE.html)"
   ]
  }
 ],
 "metadata": {
  "kernelspec": {
   "display_name": "Python 3 (ipykernel)",
   "language": "python",
   "name": "python3"
  },
  "language_info": {
   "codemirror_mode": {
    "name": "ipython",
    "version": 3
   },
   "file_extension": ".py",
   "mimetype": "text/x-python",
   "name": "python",
   "nbconvert_exporter": "python",
   "pygments_lexer": "ipython3",
   "version": "3.9.7"
  }
 },
 "nbformat": 4,
 "nbformat_minor": 5
}
