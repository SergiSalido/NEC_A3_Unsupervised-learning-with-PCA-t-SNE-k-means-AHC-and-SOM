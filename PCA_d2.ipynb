{
 "cells": [
  {
   "cell_type": "markdown",
   "id": "6fd7c216",
   "metadata": {},
   "source": [
    "# Unsupervised learning with Principal Component Analysis (PCA)\n",
    "### Dataset 2: [Wine.txt](input/Wine.txt)"
   ]
  },
  {
   "cell_type": "markdown",
   "id": "47e143bb-171b-4fcc-a265-f7ba0fc54661",
   "metadata": {},
   "source": [
    "### Description of the technique\n",
    "PCA is a classical method used for dimensionality reduction. It is used to find the best linear projection in a smaller space. The best projection preserves as much variance as possible.\n",
    "\n",
    "### Objective\n",
    "Find and plot the PCA projection in two dimensions, using a different color\n",
    "for each class."
   ]
  },
  {
   "cell_type": "markdown",
   "id": "add628c3",
   "metadata": {},
   "source": [
    "## Index\n",
    "<nav>\n",
    "\n",
    "* [Import modules](#1)\n",
    "* [Loading dataset](#2)\n",
    "* [Standardize the data](#3)\n",
    "* [PCA Projection to 2D](#4)\n",
    "* [Explained Variance](#5)\n",
    "* [Visualize 2D Projection](#6)\n",
    "* [References](#7)\n",
    "</nav>"
   ]
  },
  {
   "cell_type": "markdown",
   "id": "37833ff2",
   "metadata": {},
   "source": [
    "<a id=\"1\"></a>\n",
    "## Import modules"
   ]
  },
  {
   "cell_type": "code",
   "execution_count": 2,
   "id": "38b9c961",
   "metadata": {},
   "outputs": [],
   "source": [
    "import pandas as pd\n",
    "from sklearn.preprocessing import StandardScaler\n",
    "from sklearn.decomposition import PCA\n",
    "import matplotlib.pyplot as plt"
   ]
  },
  {
   "cell_type": "markdown",
   "id": "1faebc24",
   "metadata": {},
   "source": [
    "<a id=\"2\"></a>\n",
    "## Loading dataset"
   ]
  },
  {
   "cell_type": "code",
   "execution_count": 5,
   "id": "b688850c-ad98-41d4-8bef-fb906c3992bf",
   "metadata": {},
   "outputs": [
    {
     "name": "stdout",
     "output_type": "stream",
     "text": [
      "     Alcohol  Malic_Acid   Ash  Ash_Alcanity  Magnesium  Total_Phenols  \\\n",
      "0      14.23        1.71  2.43          15.6        127           2.80   \n",
      "1      13.20        1.78  2.14          11.2        100           2.65   \n",
      "2      13.16        2.36  2.67          18.6        101           2.80   \n",
      "3      14.37        1.95  2.50          16.8        113           3.85   \n",
      "4      13.24        2.59  2.87          21.0        118           2.80   \n",
      "..       ...         ...   ...           ...        ...            ...   \n",
      "173    13.71        5.65  2.45          20.5         95           1.68   \n",
      "174    13.40        3.91  2.48          23.0        102           1.80   \n",
      "175    13.27        4.28  2.26          20.0        120           1.59   \n",
      "176    13.17        2.59  2.37          20.0        120           1.65   \n",
      "177    14.13        4.10  2.74          24.5         96           2.05   \n",
      "\n",
      "     Flavanoids  Nonflavanoid_Phenols  Proanthocyanins  Color_Intensity   Hue  \\\n",
      "0          3.06                  0.28             2.29             5.64  1.04   \n",
      "1          2.76                  0.26             1.28             4.38  1.05   \n",
      "2          3.24                  0.30             2.81             5.68  1.03   \n",
      "3          3.49                  0.24             2.18             7.80  0.86   \n",
      "4          2.69                  0.39             1.82             4.32  1.04   \n",
      "..          ...                   ...              ...              ...   ...   \n",
      "173        0.61                  0.52             1.06             7.70  0.64   \n",
      "174        0.75                  0.43             1.41             7.30  0.70   \n",
      "175        0.69                  0.43             1.35            10.20  0.59   \n",
      "176        0.68                  0.53             1.46             9.30  0.60   \n",
      "177        0.76                  0.56             1.35             9.20  0.61   \n",
      "\n",
      "     OD280  Proline  Customer_Segment  \n",
      "0     3.92     1065                 1  \n",
      "1     3.40     1050                 1  \n",
      "2     3.17     1185                 1  \n",
      "3     3.45     1480                 1  \n",
      "4     2.93      735                 1  \n",
      "..     ...      ...               ...  \n",
      "173   1.74      740                 3  \n",
      "174   1.56      750                 3  \n",
      "175   1.56      835                 3  \n",
      "176   1.62      840                 3  \n",
      "177   1.60      560                 3  \n",
      "\n",
      "[178 rows x 14 columns]\n"
     ]
    }
   ],
   "source": [
    "# Load training data\n",
    "filename = 'input/Wine.txt'\n",
    "df = pd.read_csv(filename, delimiter=',', header=0)\n",
    "print(df)"
   ]
  },
  {
   "cell_type": "markdown",
   "id": "e66134ae",
   "metadata": {},
   "source": [
    "<a id=\"3\"></a>\n",
    "## Standardize the data"
   ]
  },
  {
   "cell_type": "code",
   "execution_count": 6,
   "id": "a53b9fa4",
   "metadata": {},
   "outputs": [],
   "source": [
    "features = ['Alcohol','Malic_Acid','Ash','Ash_Alcanity','Magnesium','Total_Phenols','Flavanoids','Nonflavanoid_Phenols','Proanthocyanins','Color_Intensity','Hue','OD280','Proline']\n",
    "target = ['Customer_Segment']\n",
    "\n",
    "# Separating out the features\n",
    "x = df.loc[:, features].values\n",
    "\n",
    "# Separating out the target (class)\n",
    "y = df.loc[:, target].values\n",
    "\n",
    "# Standardizing the features\n",
    "x = StandardScaler().fit_transform(x)"
   ]
  },
  {
   "cell_type": "markdown",
   "id": "6c5ef1b1",
   "metadata": {},
   "source": [
    "<a id=\"4\"></a>\n",
    "## PCA Projection to 2D"
   ]
  },
  {
   "cell_type": "markdown",
   "id": "c0f9fb94",
   "metadata": {},
   "source": [
    "The original data has 13 columns. In this section, the code projects the original data which is 13 dimensional into 2 dimensions. After dimensionality reduction, there usually isn’t a particular meaning assigned to each principal component. The new components are just the two main dimensions of variation."
   ]
  },
  {
   "cell_type": "code",
   "execution_count": 8,
   "id": "03927433",
   "metadata": {},
   "outputs": [
    {
     "name": "stdout",
     "output_type": "stream",
     "text": [
      "original shape:    (178, 13)\n",
      "transformed shape: (178, 2)\n",
      "     principal component 1  principal component 2\n",
      "0                 3.316751              -1.443463\n",
      "1                 2.209465               0.333393\n",
      "2                 2.516740              -1.031151\n",
      "3                 3.757066              -2.756372\n",
      "4                 1.008908              -0.869831\n",
      "..                     ...                    ...\n",
      "173              -3.370524              -2.216289\n",
      "174              -2.601956              -1.757229\n",
      "175              -2.677839              -2.760899\n",
      "176              -2.387017              -2.297347\n",
      "177              -3.208758              -2.768920\n",
      "\n",
      "[178 rows x 2 columns]\n",
      "     principal component 1  principal component 2  Customer_Segment\n",
      "0                 3.316751              -1.443463                 1\n",
      "1                 2.209465               0.333393                 1\n",
      "2                 2.516740              -1.031151                 1\n",
      "3                 3.757066              -2.756372                 1\n",
      "4                 1.008908              -0.869831                 1\n",
      "..                     ...                    ...               ...\n",
      "173              -3.370524              -2.216289                 3\n",
      "174              -2.601956              -1.757229                 3\n",
      "175              -2.677839              -2.760899                 3\n",
      "176              -2.387017              -2.297347                 3\n",
      "177              -3.208758              -2.768920                 3\n",
      "\n",
      "[178 rows x 3 columns]\n"
     ]
    }
   ],
   "source": [
    "pca = PCA(n_components=2)\n",
    "principal_components = pca.fit_transform(x)\n",
    "principal_df = pd.DataFrame(data = principal_components, columns = ['principal component 1', 'principal component 2'])\n",
    "\n",
    "\n",
    "print(\"original shape:   \", x.shape)\n",
    "print(\"transformed shape:\", principal_components.shape)\n",
    "\n",
    "print(principal_df)\n",
    "\n",
    "final_df = pd.concat([principal_df, df[['Customer_Segment']]], axis = 1)\n",
    "\n",
    "print(final_df)"
   ]
  },
  {
   "cell_type": "markdown",
   "id": "04d417cf",
   "metadata": {},
   "source": [
    "<a id=\"5\"></a>\n",
    "## Explained Variance"
   ]
  },
  {
   "cell_type": "code",
   "execution_count": 9,
   "id": "7812d28a",
   "metadata": {},
   "outputs": [
    {
     "name": "stdout",
     "output_type": "stream",
     "text": [
      "[4.73243698 2.51108093]\n",
      "[0.36198848 0.1920749 ]\n"
     ]
    }
   ],
   "source": [
    "print(pca.explained_variance_)\n",
    "print(pca.explained_variance_ratio_)"
   ]
  },
  {
   "cell_type": "markdown",
   "id": "650378a0",
   "metadata": {},
   "source": [
    "<a id=\"6\"></a>\n",
    "## Visualize 2D Projection"
   ]
  },
  {
   "cell_type": "code",
   "execution_count": 11,
   "id": "b8ee5b79",
   "metadata": {},
   "outputs": [
    {
     "name": "stdout",
     "output_type": "stream",
     "text": [
      "[1, 2, 3]\n"
     ]
    },
    {
     "data": {
      "image/png": "[encoded data removed]",
      "text/plain": [
       "<Figure size 576x576 with 1 Axes>"
      ]
     },
     "metadata": {
      "needs_background": "light"
     },
     "output_type": "display_data"
    }
   ],
   "source": [
    "fig = plt.figure(figsize = (8,8))\n",
    "ax = fig.add_subplot(1,1,1) \n",
    "ax.set_xlabel('Principal Component 1', fontsize = 15)\n",
    "ax.set_ylabel('Principal Component 2', fontsize = 15)\n",
    "ax.set_title('2 component PCA', fontsize = 20)\n",
    "\n",
    "targets = sorted(df['Customer_Segment'].unique())\n",
    "print(targets)\n",
    "\n",
    "colors = ['r', 'g', 'b', 'y', 'm', 'c']\n",
    "for target, color in zip(targets,colors):\n",
    "    indicesToKeep = final_df['Customer_Segment'] == target\n",
    "    ax.scatter(final_df.loc[indicesToKeep, 'principal component 1']\n",
    "               , final_df.loc[indicesToKeep, 'principal component 2']\n",
    "               , c = color\n",
    "               , s = 50)\n",
    "ax.legend(targets)\n",
    "ax.grid()"
   ]
  },
  {
   "cell_type": "markdown",
   "id": "e9647387",
   "metadata": {},
   "source": [
    "<a id=\"7\"></a>\n",
    "## References\n",
    "\n",
    "Principal Component Analysis:\n",
    "\n",
    "- [PCA using Python (scikit-learn)\n",
    "](https://towardsdatascience.com/pca-using-python-scikit-learn-e653f8989e60)\n",
    "- [Principal Component Analysis (PCA) in Python](https://www.datacamp.com/community/tutorials/principal-component-analysis-in-python)\n",
    "- [PCA con Python](https://www.cienciadedatos.net/documentos/py19-pca-python.html)\n",
    "- [Python para todos: Tutorial de PCA en 5 sencillos pasos](https://empresas.blogthinkbig.com/python-para-todos-tutorial-de-pca-en-5/)\n",
    "- [PCA Visualization in Python](https://plotly.com/python/pca-visualization/)\n",
    "\n",
    "Feature Scaling:\n",
    "\n",
    "- [Importance of Feature Scaling](https://scikit-learn.org/stable/auto_examples/preprocessing/plot_scaling_importance.html#sphx-glr-auto-examples-preprocessing-plot-scaling-importance-py)"
   ]
  }
 ],
 "metadata": {
  "kernelspec": {
   "display_name": "Python 3 (ipykernel)",
   "language": "python",
   "name": "python3"
  },
  "language_info": {
   "codemirror_mode": {
    "name": "ipython",
    "version": 3
   },
   "file_extension": ".py",
   "mimetype": "text/x-python",
   "name": "python",
   "nbconvert_exporter": "python",
   "pygments_lexer": "ipython3",
   "version": "3.8.10"
  }
 },
 "nbformat": 4,
 "nbformat_minor": 5
}
